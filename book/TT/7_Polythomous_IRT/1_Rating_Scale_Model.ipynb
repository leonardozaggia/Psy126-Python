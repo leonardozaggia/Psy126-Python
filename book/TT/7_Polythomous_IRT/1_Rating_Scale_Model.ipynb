{
 "cells": [
  {
   "cell_type": "markdown",
   "id": "a85611d7",
   "metadata": {},
   "source": [
    "# 5.1 Rating Scale Model (RSM)\n",
    "\n",
    "As in the Rasch model, $θ_v$ denotes the person parameter\n",
    "(the latent trait or ability being measured) and $β_i$ the item location\n",
    "parameter (corresponding to item's difficulty), here again written as easiness\n",
    "parameter in order to be consistent with the\n",
    "specification used in the `eRm` package. Each category h gets a category parameter\n",
    "ωh, constant across items. This means that item differences are solely reflected by\n",
    "the shifts in $β_i$ across items. Belonging to the Rasch family, the RSM shares all the\n",
    "desirable Rasch measurement properties. The downside is that the model is pretty\n",
    "strict since the same assumptions need to be fulfilled as in the Rasch model.\n",
    "\n",
    "## The dataset\n",
    "\n",
    "To illustrate an RSM fit, we use data analyzed in Bond and Fox (2015). The\n",
    "Children’s Empathic Attitudes Questionnaire (CEAQ; Funk et al., 2008) is a 16-\n",
    "item scale to measure empathy of late elementary and middle school-aged children.\n",
    "Each item has three ordered responses: “no” (1), “maybe” (2), and “yes” (3). The\n",
    "sample size is n = 208. Three covariates (age, gender, grade) were collected as\n",
    "well. Let us extract the items and set the lowest category to 0 in order to make it\n",
    "`eRm` compatible ().\n",
    "\n",
    "## Load, prepare and inspect the dataset"
   ]
  },
  {
   "cell_type": "code",
   "execution_count": 2,
   "id": "395d586a",
   "metadata": {},
   "outputs": [
    {
     "name": "stderr",
     "output_type": "stream",
     "text": [
      "c:\\Users\\maku1542\\AppData\\Local\\miniconda3\\envs\\psy126\\Lib\\site-packages\\rpy2\\robjects\\packages.py:367: UserWarning: The symbol 'quartz' is not in this R namespace/package.\n",
      "  warnings.warn(\n"
     ]
    },
    {
     "data": {
      "text/plain": [
       "rpy2.robjects.packages.Package as a <module 'ltm'>"
      ]
     },
     "execution_count": 2,
     "metadata": {},
     "output_type": "execute_result"
    }
   ],
   "source": [
    "# Imports\n",
    "import numpy as np\n",
    "import pandas as pd\n",
    "from rpy2 import robjects as ro\n",
    "from rpy2.robjects import pandas2ri, numpy2ri\n",
    "from rpy2.robjects.packages import importr\n",
    "\n",
    "# Miscellaneous\n",
    "pandas2ri.activate()\n",
    "numpy2ri.activate()\n",
    "ro.r('set.seed(123)')\n",
    "%load_ext rpy2.ipython\n",
    "\n",
    "# R imports\n",
    "importr('base')\n",
    "importr('mirt')      # Quick fix if future (mirt dependency) is not installed automatically: ro.r('install.packages(\"future\", repos=\"https://cloud.r-project.org\")')\n",
    "importr('MPsychoR')\n",
    "importr('Gifi')\n",
    "importr('psych')\n",
    "importr('stats')\n",
    "importr('eRm')\n",
    "importr('ltm')"
   ]
  },
  {
   "cell_type": "code",
   "execution_count": 3,
   "id": "58b65220",
   "metadata": {},
   "outputs": [
    {
     "data": {
      "text/html": [
       "<div>\n",
       "<style scoped>\n",
       "    .dataframe tbody tr th:only-of-type {\n",
       "        vertical-align: middle;\n",
       "    }\n",
       "\n",
       "    .dataframe tbody tr th {\n",
       "        vertical-align: top;\n",
       "    }\n",
       "\n",
       "    .dataframe thead th {\n",
       "        text-align: right;\n",
       "    }\n",
       "</style>\n",
       "<table border=\"1\" class=\"dataframe\">\n",
       "  <thead>\n",
       "    <tr style=\"text-align: right;\">\n",
       "      <th></th>\n",
       "      <th>ceaq1</th>\n",
       "      <th>ceaq2</th>\n",
       "      <th>ceaq3</th>\n",
       "      <th>ceaq4</th>\n",
       "      <th>ceaq5</th>\n",
       "      <th>ceaq6</th>\n",
       "      <th>ceaq7</th>\n",
       "      <th>ceaq8</th>\n",
       "      <th>ceaq9</th>\n",
       "      <th>ceaq10</th>\n",
       "      <th>ceaq11</th>\n",
       "      <th>ceaq12</th>\n",
       "      <th>ceaq13</th>\n",
       "      <th>ceaq14</th>\n",
       "      <th>ceaq15</th>\n",
       "      <th>ceaq16</th>\n",
       "    </tr>\n",
       "  </thead>\n",
       "  <tbody>\n",
       "    <tr>\n",
       "      <th>1</th>\n",
       "      <td>2.0</td>\n",
       "      <td>2.0</td>\n",
       "      <td>2.0</td>\n",
       "      <td>1.0</td>\n",
       "      <td>2.0</td>\n",
       "      <td>0.0</td>\n",
       "      <td>2.0</td>\n",
       "      <td>2.0</td>\n",
       "      <td>1.0</td>\n",
       "      <td>2.0</td>\n",
       "      <td>2.0</td>\n",
       "      <td>2.0</td>\n",
       "      <td>1.0</td>\n",
       "      <td>2.0</td>\n",
       "      <td>2.0</td>\n",
       "      <td>2.0</td>\n",
       "    </tr>\n",
       "    <tr>\n",
       "      <th>2</th>\n",
       "      <td>1.0</td>\n",
       "      <td>2.0</td>\n",
       "      <td>2.0</td>\n",
       "      <td>2.0</td>\n",
       "      <td>2.0</td>\n",
       "      <td>1.0</td>\n",
       "      <td>2.0</td>\n",
       "      <td>2.0</td>\n",
       "      <td>0.0</td>\n",
       "      <td>2.0</td>\n",
       "      <td>2.0</td>\n",
       "      <td>2.0</td>\n",
       "      <td>0.0</td>\n",
       "      <td>2.0</td>\n",
       "      <td>2.0</td>\n",
       "      <td>2.0</td>\n",
       "    </tr>\n",
       "    <tr>\n",
       "      <th>3</th>\n",
       "      <td>2.0</td>\n",
       "      <td>2.0</td>\n",
       "      <td>2.0</td>\n",
       "      <td>1.0</td>\n",
       "      <td>2.0</td>\n",
       "      <td>1.0</td>\n",
       "      <td>2.0</td>\n",
       "      <td>0.0</td>\n",
       "      <td>2.0</td>\n",
       "      <td>2.0</td>\n",
       "      <td>1.0</td>\n",
       "      <td>2.0</td>\n",
       "      <td>1.0</td>\n",
       "      <td>2.0</td>\n",
       "      <td>2.0</td>\n",
       "      <td>2.0</td>\n",
       "    </tr>\n",
       "    <tr>\n",
       "      <th>4</th>\n",
       "      <td>2.0</td>\n",
       "      <td>1.0</td>\n",
       "      <td>2.0</td>\n",
       "      <td>2.0</td>\n",
       "      <td>1.0</td>\n",
       "      <td>2.0</td>\n",
       "      <td>2.0</td>\n",
       "      <td>0.0</td>\n",
       "      <td>0.0</td>\n",
       "      <td>2.0</td>\n",
       "      <td>2.0</td>\n",
       "      <td>2.0</td>\n",
       "      <td>0.0</td>\n",
       "      <td>2.0</td>\n",
       "      <td>1.0</td>\n",
       "      <td>2.0</td>\n",
       "    </tr>\n",
       "    <tr>\n",
       "      <th>5</th>\n",
       "      <td>2.0</td>\n",
       "      <td>1.0</td>\n",
       "      <td>2.0</td>\n",
       "      <td>2.0</td>\n",
       "      <td>1.0</td>\n",
       "      <td>0.0</td>\n",
       "      <td>2.0</td>\n",
       "      <td>2.0</td>\n",
       "      <td>0.0</td>\n",
       "      <td>2.0</td>\n",
       "      <td>1.0</td>\n",
       "      <td>2.0</td>\n",
       "      <td>1.0</td>\n",
       "      <td>2.0</td>\n",
       "      <td>1.0</td>\n",
       "      <td>2.0</td>\n",
       "    </tr>\n",
       "  </tbody>\n",
       "</table>\n",
       "</div>"
      ],
      "text/plain": [
       "   ceaq1  ceaq2  ceaq3  ceaq4  ceaq5  ceaq6  ceaq7  ceaq8  ceaq9  ceaq10  \\\n",
       "1    2.0    2.0    2.0    1.0    2.0    0.0    2.0    2.0    1.0     2.0   \n",
       "2    1.0    2.0    2.0    2.0    2.0    1.0    2.0    2.0    0.0     2.0   \n",
       "3    2.0    2.0    2.0    1.0    2.0    1.0    2.0    0.0    2.0     2.0   \n",
       "4    2.0    1.0    2.0    2.0    1.0    2.0    2.0    0.0    0.0     2.0   \n",
       "5    2.0    1.0    2.0    2.0    1.0    0.0    2.0    2.0    0.0     2.0   \n",
       "\n",
       "   ceaq11  ceaq12  ceaq13  ceaq14  ceaq15  ceaq16  \n",
       "1     2.0     2.0     1.0     2.0     2.0     2.0  \n",
       "2     2.0     2.0     0.0     2.0     2.0     2.0  \n",
       "3     1.0     2.0     1.0     2.0     2.0     2.0  \n",
       "4     2.0     2.0     0.0     2.0     1.0     2.0  \n",
       "5     1.0     2.0     1.0     2.0     1.0     2.0  "
      ]
     },
     "execution_count": 3,
     "metadata": {},
     "output_type": "execute_result"
    }
   ],
   "source": [
    "# Load the data in R\n",
    "ro.r(\"data(CEAQ)\")\n",
    "\n",
    "# Get as DataFrame\n",
    "CEAQ = pandas2ri.rpy2py(ro.globalenv['CEAQ'])\n",
    "\n",
    "# Subtract 1 from every response to make the dataset eRm compatible\n",
    "itceaq = CEAQ.iloc[:, :16] - 1\n",
    "\n",
    "# Inspect the dataset\n",
    "itceaq.head()\n"
   ]
  },
  {
   "cell_type": "markdown",
   "id": "0a03cd8f",
   "metadata": {},
   "source": [
    "### Fit the model"
   ]
  },
  {
   "cell_type": "markdown",
   "id": "02bf7b80",
   "metadata": {},
   "source": [
    "\n",
    "When evaluating item fit in polytomous Rasch-family models such as the **Rating Scale Model (RSM)**, it is necessary to compute person parameters using the `person.parameter()` function before calling `itemfit()`. This is a crucial step because the `itemfit()` function assesses item-level model fit by comparing the **observed** item responses to their **expected** values under the model. \n",
    "\n",
    "These expectations are calculated with respect to each individual's **latent trait level (θ)**—which is not known in advance but must be estimated. The `person.parameter()` function takes the fitted model object (e.g., from `RSM()`) and computes these ability estimates for each respondent, taking into account the structure of the RSM, where all items share the same set of step parameters.\n",
    "\n",
    "Once these person parameters are estimated, they can be used to evaluate how well each item conforms to the expectations of the Rating Scale Model. This includes residual-based statistics like infit and outfit mean squares. Without the `person.parameter()` object, `itemfit()` lacks the necessary trait estimates to perform its computations.\n"
   ]
  },
  {
   "cell_type": "code",
   "execution_count": 4,
   "id": "ad4b870e",
   "metadata": {},
   "outputs": [
    {
     "name": "stdout",
     "output_type": "stream",
     "text": [
      "\n",
      "Itemfit Statistics: \n",
      "         Chisq  df p-value Outfit MSQ Infit MSQ Outfit t Infit t Discrim\n",
      "ceaq1  210.938 205   0.373      1.024     0.918    0.201  -0.704   0.504\n",
      "ceaq2  190.205 205   0.763      0.923     0.897   -0.496  -0.977   0.549\n",
      "ceaq3  259.718 205   0.006      1.261     0.966    1.305  -0.215   0.396\n",
      "ceaq4  222.146 205   0.196      1.078     0.995    0.724  -0.024   0.289\n",
      "ceaq5  167.622 205   0.974      0.814     0.864   -1.576  -1.471   0.511\n",
      "ceaq6  191.085 205   0.749      0.928     0.914   -0.764  -1.055   0.407\n",
      "ceaq7  162.424 205   0.987      0.788     0.886   -1.506  -1.074   0.588\n",
      "ceaq8  146.463 205   0.999      0.711     0.738   -3.409  -3.523   0.622\n",
      "ceaq9  181.586 205   0.879      0.881     0.891   -1.311  -1.373   0.512\n",
      "ceaq10 380.868 205   0.000      1.849     1.650    3.959   4.549  -0.044\n",
      "ceaq11 149.579 205   0.999      0.726     0.753   -3.297  -3.342   0.635\n",
      "ceaq12 192.132 205   0.731      0.933     0.980   -0.424  -0.151   0.589\n",
      "ceaq13 188.073 205   0.796      0.913     0.924   -0.886  -0.909   0.513\n",
      "ceaq14 232.512 205   0.091      1.129     1.206    0.752   1.614   0.422\n",
      "ceaq15 249.571 205   0.018      1.212     1.166    1.883   1.830   0.264\n",
      "ceaq16 184.072 205   0.850      0.894     0.920   -0.930  -0.879   0.482\n",
      "\n",
      "\n"
     ]
    }
   ],
   "source": [
    "# Put data back into R\n",
    "ro.globalenv['itceaq'] = itceaq\n",
    "\n",
    "# Fit the model and get person parameters in R\n",
    "ro.r(\"\"\"\n",
    "fitrsm <- RSM(itceaq)\n",
    "ppar2 <- person.parameter(fitrsm)\n",
    "ifit0 <- eRm::itemfit(ppar2)\n",
    "\"\"\")\n",
    "ifit0 = ro.r(\"ifit0\")\n",
    "print(ifit0)"
   ]
  },
  {
   "cell_type": "markdown",
   "id": "11325bad",
   "metadata": {},
   "source": [
    "\n",
    "The output above presents item-level fit statistics from a Rating Scale Model (RSM). Each row corresponds to an item, and the columns report several indicators of model-data fit. Since the degrees of freedom (*df*) are constant across items (df = 205), the chi-square (*χ²*) p-values are directly comparable. However, it is important to note that chi-square statistics are sensitive to sample size and often exhibit **inflated Type I error rates**. This can lead to **false positives**—that is, the incorrect identification of misfitting items.\n",
    "\n",
    "More reliable indicators of item fit in practice are the **mean square (MSQ)** statistics:\n",
    "\n",
    "- **Outfit MSQ**: Measures unexpected responses, especially those that are far from a person’s estimated ability. It is sensitive to outliers.\n",
    "- **Infit MSQ**: Focuses on unexpected responses near a person’s ability level and is more robust to outliers. Therefore, infit is often preferred.\n",
    "\n",
    "Both fit indices should ideally fall within the range of **[0.7, 1.3]**. Values:\n",
    "- **Below 0.7** suggest overfit (i.e., responses are too predictable),\n",
    "- **Above 1.3** suggest underfit (i.e., noise or unexplained variance in responses).\n",
    "\n",
    "Additionally, **standardized t-values** are provided for both outfit and infit. These values convert the MSQ statistics into approximate z-scores and should ideally lie within the range of **[−2, 2]**.\n",
    "\n",
    "**Note**: The `Discrim` values in the output are post hoc diagnostic indicators of item–trait alignment and do not reflect freely estimated discrimination parameters, as discrimination is fixed in the RSM.\n",
    "\n",
    "---\n",
    "\n",
    "### Evaluating Misfitting Items\n",
    "\n",
    "From the table above:\n",
    "\n",
    "- **Item 10 (`ceaq10`)** shows strong evidence of misfit:  \n",
    "  - χ² p-value = 0.000 (significant),\n",
    "  - Outfit MSQ = 1.849 and Infit MSQ = 1.650 (both well above the acceptable range),\n",
    "  - t-values for both infit and outfit exceed 3.9,\n",
    "  - Discrimination is negative (−0.044), suggesting it may be performing poorly overall.\n",
    "\n",
    "- **Item 3 (`ceaq3`)** and **Item 15 (`ceaq15`)** also raise concerns:  \n",
    "  - `ceaq3` has a significant p-value (0.006), with outfit MSQ = 1.261 and t = 1.305,\n",
    "  - `ceaq15` has p = 0.018, infit MSQ = 1.166, and t-values nearing ±2.\n",
    "\n",
    "- **Items 8 and 11 (`ceaq8`, `ceaq11`)** exhibit very low MSQ values and t-values below −3, suggesting **overfit**. While overfit is less problematic than underfit, it may indicate overly constrained response behavior.\n",
    "\n",
    "Overall, **Items 10, 3, 15, 8, and 11** warrant closer inspection. They may require revision or removal depending on substantive considerations and further psychometric evaluation.\n",
    "\n",
    "For now, let us eliminate item 10 and item 15 and refit the model:\n"
   ]
  },
  {
   "cell_type": "code",
   "execution_count": 5,
   "id": "8358df5e",
   "metadata": {},
   "outputs": [
    {
     "name": "stdout",
     "output_type": "stream",
     "text": [
      "\n",
      "Itemfit Statistics: \n",
      "         Chisq  df p-value Outfit MSQ Infit MSQ Outfit t Infit t Discrim\n",
      "ceaq1  225.051 205   0.161      1.092     0.979    0.583  -0.143   0.495\n",
      "ceaq2  207.044 205   0.447      1.005     0.937    0.084  -0.566   0.553\n",
      "ceaq3  266.737 205   0.002      1.295     1.018    1.362   0.183   0.412\n",
      "ceaq4  261.178 205   0.005      1.268     1.111    2.166   1.200   0.273\n",
      "ceaq5  181.898 205   0.876      0.883     0.938   -0.904  -0.617   0.501\n",
      "ceaq6  205.813 205   0.471      0.999     0.971    0.024  -0.320   0.408\n",
      "ceaq7  164.570 205   0.983      0.799     0.922   -1.345  -0.705   0.593\n",
      "ceaq8  148.237 205   0.999      0.720     0.763   -3.126  -3.044   0.623\n",
      "ceaq9  188.180 205   0.794      0.913     0.936   -0.871  -0.763   0.508\n",
      "ceaq11 156.431 205   0.995      0.759     0.792   -2.679  -2.683   0.621\n",
      "ceaq12 193.162 205   0.713      0.938     0.983   -0.363  -0.126   0.611\n",
      "ceaq13 185.197 205   0.836      0.899     0.931   -0.956  -0.806   0.526\n",
      "ceaq14 252.851 205   0.013      1.227     1.275    1.177   2.087   0.422\n",
      "ceaq16 198.036 205   0.624      0.961     0.982   -0.289  -0.160   0.481\n",
      "\n",
      "\n"
     ]
    }
   ],
   "source": [
    "# Subset the dataset to remove items 10 and 15\n",
    "itceaqsub = itceaq.drop(itceaq.columns[[9,14]], axis=1)\n",
    "\n",
    "# Put data back into R\n",
    "ro.globalenv['itceaqsub'] = itceaqsub\n",
    "\n",
    "# Fit the model\n",
    "ro.r(\"fitrsm2 <- RSM(itceaqsub)\")\n",
    "\n",
    "# Get person parameters\n",
    "ppar2 = ro.r(\"ppar2 <- person.parameter(fitrsm2)\")\n",
    "\n",
    "# Get item fit\n",
    "ifit02 = ro.r(\"eRm::itemfit(ppar2)\")\n",
    "print(ifit02)"
   ]
  },
  {
   "cell_type": "markdown",
   "id": "11680ecc",
   "metadata": {},
   "source": [
    "\n",
    "In this updated model run, no items exhibit the same combination of significant p-values *and* extreme misfit statistics observed previously (e.g., item 10). However, **items 3, 4, and 14** still present **significant chi-square p-values** (p < 0.05), which could indicate **potential misfit** with respect to the assumptions of the RSM.\n",
    "\n",
    "This misfit could suggest that these items are **not functioning uniformly** across all levels of the latent trait—possibly measuring a slightly different or additional construct. However, this interpretation must be tempered by examining other fit statistics.\n",
    "\n",
    "Notably:\n",
    "- The **Infit and Outfit MSQ values** for these items remain within the acceptable range of **[0.7, 1.3]**.\n",
    "- The **standardized t-values** also remain largely within the recommended bounds of **[−2, 2]**, except for item 4’s infit t (2.087), which marginally exceeds this range.\n",
    "- The **Discrimination indices** for all three items remain positive and comparable to other items, suggesting they still contribute to differentiating respondents along the latent trait.\n",
    "\n",
    "Taken together, while the chi-square statistics alone flag these items, the absence of corroborating misfit in the more robust indicators (infit/outfit MSQ and t-values) suggests that **these items may still be retained**. This reflects a common psychometric judgment: significant p-values in isolation—especially when multiple comparisons are made—do not necessarily indicate problematic items, particularly when other indices support acceptable fit.\n",
    "\n",
    "Thus, we recommend **including items 3, 4, and 14**, with a note for future validation studies to monitor their performance.\n",
    "\n",
    "\n",
    "## Andersen’s LRtest()\n",
    "\n",
    "Let us double-check the model fit using **Andersen’s LR-test**, which has better\n",
    "inferential properties than the itemfit statistics. It's a statistical test\n",
    "that assesses whether the item parameters are consistent across different groups\n",
    "of respondents (in this case, we use grade as splitting criterion).\n",
    "\n",
    "Note that we have some missing grade and gender values, for simplicity we will discard every participant that has missing values. We will also reinitialize our variable to make sure we are working with the updated dataset from now on."
   ]
  },
  {
   "cell_type": "code",
   "execution_count": 6,
   "id": "51d26522",
   "metadata": {},
   "outputs": [],
   "source": [
    "# Discard all participatns with missing data \n",
    "CEAQ = CEAQ.replace(-2147483648, np.nan)      # Replace -2147483648 with NaN\n",
    "CEAQ = CEAQ.dropna()                          # Drop rows with NaN values\n",
    "itceaq = CEAQ.iloc[:, :16] - 1                # Subtract 1 from every response to make the dataset eRm compatible\n",
    "itceaqsub = itceaq.drop(itceaq.columns[[9,14]], axis=1) # Drop items 10 and 15\n",
    "\n",
    "# Put data back into R\n",
    "ro.globalenv['CEAQ'] = CEAQ              \n",
    "ro.globalenv['itceaq'] = itceaq          \n",
    "ro.globalenv['itceaqsub'] = itceaqsub    "
   ]
  },
  {
   "cell_type": "code",
   "execution_count": 7,
   "id": "bff0b3c2",
   "metadata": {},
   "outputs": [
    {
     "name": "stdout",
     "output_type": "stream",
     "text": [
      "[3.0, 1.0, 3.0, 3.0, 3.0, ..., 2.0, 2.0, 3.0, 3.0, 2.0]\n",
      "Length: 187\n",
      "Categories (4, float64): [1.0, 2.0, 3.0, 4.0]\n"
     ]
    }
   ],
   "source": [
    "gradevec = pd.Categorical(CEAQ['grade'])      # Convert 'grade' column to categorical\n",
    "print(gradevec)"
   ]
  },
  {
   "cell_type": "markdown",
   "id": "90dc287f",
   "metadata": {},
   "source": [
    "With the next code we binarize `gradevec` and compute the LR-test using the `LRtest()` function. The following code chunk is creating two groups (grades 1-2 and grades 3-4) to compare item parameters between these *two* groups."
   ]
  },
  {
   "cell_type": "markdown",
   "id": "97c5c3fa",
   "metadata": {},
   "source": [
    "---\n",
    "<details>\n",
    "<summary> Alternative: Using vanilla python </summary>\n",
    "\n",
    "Alternatively you can simply loop through the items of gradevec and assign either `grade12` or `grade34` without needing to use any pandas function, see the following:\n",
    "\n",
    "\n",
    "```python\n",
    "# Using the for loop\n",
    "gradevec_bin = []\n",
    "for i, g in enumerate(gradevec):\n",
    "    if gradevec[i] in [1.0, 2.0]:\n",
    "        gradevec_bin.append('grade12')\n",
    "    else:\n",
    "        gradevec_bin.append('grade34')\n",
    "\n",
    "```\n",
    "\n",
    "\n",
    "Using *line comprenhension* for a more sleek look:\n",
    "```python\n",
    "# Line Comprehension\n",
    "gradevec_bin = ['grade12' if g in [1.0, 2.0] else 'grade34' for g in gradevec]\n",
    "gradevec_bin = pd.Categorical(gradevec_bin)  # Don't forget to turn gradevec_bin into a categorical variable\n",
    "```\n",
    "</details> \n",
    "\n",
    "---"
   ]
  },
  {
   "cell_type": "code",
   "execution_count": 8,
   "id": "9009048a",
   "metadata": {},
   "outputs": [
    {
     "name": "stdout",
     "output_type": "stream",
     "text": [
      "['grade34', 'grade12', 'grade34', 'grade34', 'grade34', ..., 'grade12', 'grade12', 'grade34', 'grade34', 'grade12']\n",
      "Length: 187\n",
      "Categories (2, object): ['grade12', 'grade34']\n"
     ]
    },
    {
     "name": "stderr",
     "output_type": "stream",
     "text": [
      "C:\\Users\\maku1542\\AppData\\Local\\Temp\\ipykernel_18564\\1239552924.py:2: FutureWarning: The default value of 'ignore' for the `na_action` parameter in pandas.Categorical.map is deprecated and will be changed to 'None' in a future version. Please set na_action to the desired value to avoid seeing this warning\n",
      "  gradevec_bin = gradevec.map({1.0: 'grade12', 2.0: 'grade12', 3.0: 'grade34', 4.0: 'grade34'})\n"
     ]
    }
   ],
   "source": [
    "# Binarize the 'grade' vector\n",
    "gradevec_bin = gradevec.map({1.0: 'grade12', 2.0: 'grade12', 3.0: 'grade34', 4.0: 'grade34'})\n",
    "gradevec_bin = pd.Categorical(gradevec_bin, categories=['grade12', 'grade34'])\n",
    "print(gradevec_bin)"
   ]
  },
  {
   "cell_type": "code",
   "execution_count": 9,
   "id": "6590e157",
   "metadata": {},
   "outputs": [
    {
     "name": "stdout",
     "output_type": "stream",
     "text": [
      "\n",
      "Andersen LR-test: \n",
      "LR-value: 15.848 \n",
      "Chi-square df: 14 \n",
      "p-value:  0.323 \n",
      "\n",
      "\n"
     ]
    }
   ],
   "source": [
    "# Put clean data back into R\n",
    "ro.globalenv['CEAQ'] = CEAQ                   \n",
    "ro.globalenv['gradevec'] = gradevec_bin       \n",
    "\n",
    "# Fit the model again on the new cleaned data in R\n",
    "ro.r(\"\"\"\n",
    "fitrsm2 <- RSM(itceaqsub)\n",
    "ppar2 <- person.parameter(fitrsm2)\n",
    "\"\"\")\n",
    "\n",
    "LRtest1 = ro.r(\"LRtest(fitrsm2, gradevec)\")\n",
    "print(LRtest1)"
   ]
  },
  {
   "cell_type": "markdown",
   "id": "157548ee",
   "metadata": {},
   "source": [
    "### Interpretation\n",
    "**Chi-square test decision rule**:\n",
    "- Null hypothesis (H₀): Item parameters are invariant across groups (Rasch model holds).\n",
    "\n",
    "- Alternative hypothesis (H₁): Item parameters differ across groups (Rasch model does not hold).\n",
    "\n",
    "Since the `p-value: 0.323` is greater than the conventional alpha level (e.g., 0.05), we fail to reject the null hypothesis.\n",
    "\n"
   ]
  },
  {
   "cell_type": "markdown",
   "id": "8efc8d25",
   "metadata": {},
   "source": [
    "## WaldTest()\n",
    "\n",
    "An alternative method for evaluating item-category fit is the `Waldtest()` function, \n",
    "which provides a *p-value* for each **threshold** (item-category) parameter.\n",
    "Interpreting results where some parameters for an item are significant while others are not can be nuanced. \n",
    "Whether to retain or remove such items depends on the desired strictness of model fit and the flexibility in item selection for scale construction.\n",
    "\n",
    "As a general *rule of thumb*, significant *p-values* suggest that certain item-category thresholds deviate meaningfully from the average, \n",
    "indicating that the RSM's assumption of uniform category thresholds may not fully hold.\n"
   ]
  },
  {
   "cell_type": "code",
   "execution_count": 10,
   "id": "91a473f0",
   "metadata": {},
   "outputs": [
    {
     "name": "stdout",
     "output_type": "stream",
     "text": [
      "\n",
      "Wald test on item level (z-values):\n",
      "\n",
      "               z-statistic p-value\n",
      "beta ceaq1.c1        0.486   0.627\n",
      "beta ceaq1.c2       -0.012   0.991\n",
      "beta ceaq2.c1       -0.013   0.989\n",
      "beta ceaq2.c2       -0.523   0.601\n",
      "beta ceaq3.c1       -0.410   0.682\n",
      "beta ceaq3.c2       -0.862   0.389\n",
      "beta ceaq4.c1       -1.275   0.202\n",
      "beta ceaq4.c2       -1.707   0.088\n",
      "beta ceaq5.c1        0.112   0.911\n",
      "beta ceaq5.c2       -0.426   0.670\n",
      "beta ceaq6.c1       -2.044   0.041\n",
      "beta ceaq6.c2       -2.183   0.029\n",
      "beta ceaq7.c1        0.269   0.788\n",
      "beta ceaq7.c2       -0.257   0.797\n",
      "beta ceaq8.c1       -1.117   0.264\n",
      "beta ceaq8.c2       -1.501   0.133\n",
      "beta ceaq9.c1       -0.681   0.496\n",
      "beta ceaq9.c2       -1.063   0.288\n",
      "beta ceaq11.c1       1.043   0.297\n",
      "beta ceaq11.c2       0.348   0.728\n",
      "beta ceaq12.c1       2.646   0.008\n",
      "beta ceaq12.c2       2.075   0.038\n",
      "beta ceaq13.c1       0.161   0.872\n",
      "beta ceaq13.c2      -0.355   0.723\n",
      "beta ceaq14.c1       0.454   0.650\n",
      "beta ceaq14.c2       0.005   0.996\n",
      "beta ceaq16.c1      -0.365   0.715\n",
      "beta ceaq16.c2      -0.878   0.380\n",
      "\n",
      "\n"
     ]
    }
   ],
   "source": [
    "fitWald = ro.r(\"Waldtest(fitrsm2, gradevec)\")\n",
    "print(fitWald)"
   ]
  },
  {
   "cell_type": "markdown",
   "id": "1fc38a0d",
   "metadata": {},
   "source": [
    "Still, the overall fit of the model and the other item fit statistics indicate that the RSM is still a reasonable model given the data at hand.\n",
    "\n",
    "## Inspect and interpret item paramters"
   ]
  },
  {
   "cell_type": "code",
   "execution_count": 75,
   "id": "4dd33d11",
   "metadata": {},
   "outputs": [
    {
     "name": "stdout",
     "output_type": "stream",
     "text": [
      "\n",
      "Results of RSM estimation: \n",
      "\n",
      "Call:  RSM(X = itceaqsub) \n",
      "\n",
      "Conditional log-likelihood: -1565.379 \n",
      "Number of iterations: 19 \n",
      "Number of parameters: 14 \n",
      "\n",
      "Item (Category) Difficulty Parameters (eta):\n",
      "              ceaq2      ceaq3     ceaq4      ceaq5     ceaq6      ceaq7\n",
      "Estimate -0.6863777 -1.2712365 0.0155642 -0.3647469 1.3268268 -0.6065978\n",
      "Std.Err   0.1379881  0.1606748 0.1209737  0.1288561 0.1181625  0.1355097\n",
      "             ceaq8     ceaq9    ceaq11     ceaq12    ceaq13     ceaq14\n",
      "Estimate 0.6347949 1.3268268 0.9692035 -0.7273839 1.5426362 -1.2988594\n",
      "Std.Err  0.1149212 0.1181625 0.1151861  0.1393175 0.1212466  0.1619545\n",
      "             ceaq16     Cat 2\n",
      "Estimate 0.06187617 1.5198971\n",
      "Std.Err  0.12022888 0.1138046\n",
      "\n",
      "\n",
      "\n"
     ]
    }
   ],
   "source": [
    "fitrsm2 = ro.globalenv[\"fitrsm2\"]\n",
    "print(fitrsm2)                    # alternatively, you can use `ro.r(\"summary(fitrsm2)\")` to get a summary of the model fit"
   ]
  },
  {
   "cell_type": "markdown",
   "id": "ebe4dbb1",
   "metadata": {},
   "source": [
    "In this example, let us proceed with the `fitrsm2` model. The item parameters\n",
    "shown in the print or summary output are difficult to interpret. Let us convert\n",
    "them into **threshold** parameters. \\\n",
    "The **threshold** parameters are more intuitive because they represent the points on the latent trait scale where the probability of responding in a higher category exceeds the probability of responding in a lower category."
   ]
  },
  {
   "cell_type": "code",
   "execution_count": null,
   "id": "a2adcbff",
   "metadata": {},
   "outputs": [
    {
     "name": "stdout",
     "output_type": "stream",
     "text": [
      "\n",
      "Design Matrix Block 1:\n",
      "       Location Threshold 1 Threshold 2\n",
      "ceaq1  -0.16252    -0.89441     0.56937\n",
      "ceaq2   0.07934    -0.65255     0.81122\n",
      "ceaq3  -0.58160    -1.31348     0.15029\n",
      "ceaq4   0.73797     0.00608     1.46986\n",
      "ceaq5   0.46689    -0.26500     1.19878\n",
      "ceaq6   2.04031     1.30842     2.77219\n",
      "ceaq7   0.04391    -0.68798     0.77579\n",
      "ceaq8   1.38216     0.65027     2.11405\n",
      "ceaq9   1.92245     1.19056     2.65434\n",
      "ceaq11  1.71188     0.97999     2.44377\n",
      "ceaq12  0.06169    -0.67020     0.79358\n",
      "ceaq13  2.26829     1.53640     3.00018\n",
      "ceaq14 -0.39327    -1.12516     0.33862\n",
      "ceaq16  0.66895    -0.06294     1.40084\n",
      "\n",
      "\n"
     ]
    }
   ],
   "source": [
    "thpar = ro.r(\"thresholds(fitrsm2)\")\n",
    "print(thpar)"
   ]
  },
  {
   "cell_type": "markdown",
   "id": "94a769f8",
   "metadata": {},
   "source": [
    "### Interpreting Parameters in Polytomous Rasch Models\n",
    "\n",
    "In polytomous Rasch models, each item is associated with a **location parameter** and *k − 1* **threshold parameters**, where *k* is the number of response categories for that item. The **location parameter** reflects the overall difficulty or position of the item on the latent trait continuum (e.g., empathy). In contrast, the **threshold parameters** correspond to specific points along the trait continuum at which a respondent is equally likely to choose between two adjacent categories. For instance, the first threshold marks the point at which a respondent transitions from scoring 0 to scoring 1, the second from 1 to 2 (and so on if we had more than three categories).\n",
    "\n",
    "While the location parameter summarizes the item’s general difficulty, the threshold parameters capture the relative difficulty of progressing between adjacent response categories.\n",
    "\n",
    "Visualizing these dynamics is possible using the `plotICC()` function, which generates **Item Category Characteristic Curves**. For polytomous items, each curve represents the probability of endorsing a particular category as a function of the respondent's position on the latent trait. Let us illustrate this by plotting the ICC for the first item.\n"
   ]
  },
  {
   "cell_type": "code",
   "execution_count": 76,
   "id": "d7e83aad",
   "metadata": {},
   "outputs": [
    {
     "data": {
      "image/png": "[encoded data removed]",
      "text/plain": [
       "<IPython.core.display.Image object>"
      ]
     },
     "metadata": {},
     "output_type": "display_data"
    }
   ],
   "source": [
    "%%R\n",
    "plotICC(fitrsm2, item.subset = 1)"
   ]
  },
  {
   "cell_type": "markdown",
   "id": "f3b71cc3",
   "metadata": {},
   "source": [
    "Another plotting option, which summarizes nicely the entire set of parameter\n",
    "estimates, is the person-item map."
   ]
  },
  {
   "cell_type": "code",
   "execution_count": 77,
   "id": "3125f73d",
   "metadata": {},
   "outputs": [
    {
     "data": {
      "image/png": "[encoded data removed]",
      "text/plain": [
       "<IPython.core.display.Image object>"
      ]
     },
     "metadata": {},
     "output_type": "display_data"
    }
   ],
   "source": [
    "%%R\n",
    "plotPImap(fitrsm2, latdim = \"Empathy\", main = \"Person-Item Map CEAQ\")"
   ]
  },
  {
   "cell_type": "markdown",
   "id": "fef83090",
   "metadata": {},
   "source": [
    "As this plot nicely illustrates, item differences occur due to location shifts only.\n",
    "That is, we fit one set of threshold parameters for all items, which is then shifted\n",
    "across the items via the location parameter. This means that RSM assumes  the relative distances between the response categories to be the same for all items, which is a strong assumption that might not always hold in practice.\n",
    "This is a main feature of the RSM and will be relaxed in the next section.\n",
    "\n",
    "### Test your understanding\n",
    "\n",
    "- Based on the thpar output, which item appears to be the easiest? Which appears to be the most difficult? Discuss with your collegues.\n",
    "- Looking at the person-item map, are there any respondents who seem to have very high or very low levels of empathy? How can you tell?"
   ]
  }
 ],
 "metadata": {
  "kernelspec": {
   "display_name": "psy126",
   "language": "python",
   "name": "python3"
  },
  "language_info": {
   "codemirror_mode": {
    "name": "ipython",
    "version": 3
   },
   "file_extension": ".py",
   "mimetype": "text/x-python",
   "name": "python",
   "nbconvert_exporter": "python",
   "pygments_lexer": "ipython3",
   "version": "3.13.3"
  }
 },
 "nbformat": 4,
 "nbformat_minor": 5
}
