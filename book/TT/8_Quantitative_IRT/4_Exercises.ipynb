{
 "cells": [
  {
   "cell_type": "markdown",
   "id": "0f9c0011",
   "metadata": {},
   "source": [
    "# 6.4 Exercises\n",
    "## Quantitative IRT\n",
    "We will now solve a few exercises on Item Response Theory with quantitative data."
   ]
  },
  {
   "cell_type": "markdown",
   "metadata": {},
   "source": [
     "#### Usage\n",
     "\n",
     "These short exercises practice model comparison within the tau-congeneric family. Load the reaction time dataset and repeat the analyses from the previous notebooks, modifying the item set as indicated. Compare fit statistics to evaluate how item omission influences the results."
   ]
  },
  {
   "cell_type": "markdown",
   "id": "e7a39333",
   "metadata": {},
   "source": [
    "## 1️⃣ Tau-Congeneric Model Comparison\n",
    "**Instructions:**\n",
    "1. Try fitting a new model excluding item 2 and item 3.\n",
    "2. Assess the model fit. How does the fit change? Can you spot any difference between the two models?"
   ]
  },
  {
   "cell_type": "code",
   "execution_count": null,
   "id": "71aaa067",
   "metadata": {},
   "outputs": [],
   "source": [
    "# Use the dataset described in the section on Tau-Congeneric Measurement Models\n",
    "file_name = \"Data_EmotionalClarity.dat\"\n",
    "dat = pd.read_csv(file_name, sep=\"\\t\")\n",
    "dat2 = dat.iloc[:, 1:7]"
   ]
  },
  {
   "cell_type": "code",
   "execution_count": null,
   "id": "240fbc77",
   "metadata": {},
   "outputs": [],
   "source": [
    "# Remove Items 2 and 3\n",
    "dat3 = dat2.drop(columns=[...])\n",
    "print(dat3.head())\n",
    "# Put data into R\n",
    "ro.globalenv[...] = ...\n",
    "# Specify the model\n",
    "ro.r(\"mtc2 <- ... \")\n",
    "# Fit the model\n",
    "ro.r('fitmtc2 <- ... ')\n",
    "# Print the output of the model for interpretation\n",
    "summary_fitmtc2 = ro.r(...)\n",
    "print(summary_fitmtc2)"
   ]
  }
 ],
 "metadata": {
  "language_info": {
   "name": "python"
  }
 },
 "nbformat": 4,
 "nbformat_minor": 5
}
