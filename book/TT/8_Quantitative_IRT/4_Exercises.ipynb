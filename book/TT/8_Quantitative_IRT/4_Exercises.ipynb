{
 "cells": [
  {
   "cell_type": "markdown",
   "id": "0f9c0011",
   "metadata": {},
   "source": [
    "# 6.4 Exercises\n",
    "## Quantitative IRT\n",
    "We will now solve a few exercises on Item Response Theory with quantitative data."
   ]
  },
  {
   "cell_type": "markdown",
   "metadata": {},
   "source": [
    "#### Usage\n",
    "\n",
    "These short exercises practice model comparison within the tau-congeneric family. Load the reaction time dataset and repeat the analyses from the previous notebooks, modifying the item set as indicated. Compare fit statistics to evaluate how item omission influences the results."
   ]
  },
  {
   "cell_type": "markdown",
   "id": "e7a39333",
   "metadata": {},
   "source": [
    "## 1️⃣ Tau-Congeneric Model Comparison\n",
    "**Instructions:**\n",
    "1. Try fitting a new model excluding item 2 and item 3.\n",
    "2. Assess the model fit. How does the fit change? Can you spot any difference between the two models?"
   ]
  },
  {
   "cell_type": "code",
   "execution_count": 3,
   "id": "71aaa067",
   "metadata": {},
   "outputs": [
    {
     "name": "stderr",
     "output_type": "stream",
     "text": [
      "c:\\Users\\maku1542\\AppData\\Local\\miniconda3\\envs\\psy126\\Lib\\site-packages\\rpy2\\robjects\\packages.py:367: UserWarning: The symbol 'quartz' is not in this R namespace/package.\n",
      "  warnings.warn(\n"
     ]
    }
   ],
   "source": [
    "# Use the dataset described in the section on Tau-Congeneric Measurement Models\n",
    "import pandas as pd\n",
    "# General imports\n",
    "import numpy as np\n",
    "import pandas as pd\n",
    "\n",
    "# Rpy2 imports\n",
    "from rpy2 import robjects as ro\n",
    "from rpy2.robjects import pandas2ri, numpy2ri\n",
    "from rpy2.robjects.packages import importr\n",
    "\n",
    "# Automatic conversion of arrays and dataframes\n",
    "pandas2ri.activate()\n",
    "numpy2ri.activate()\n",
    "\n",
    "# Set random seed for reproducibility\n",
    "ro.r('set.seed(123)')\n",
    "\n",
    "# IPython extension for magic plotting\n",
    "%load_ext rpy2.ipython\n",
    "\n",
    "# R imports\n",
    "importr('base')\n",
    "importr('MPsychoR')\n",
    "importr('Gifi')\n",
    "importr('psych')\n",
    "importr('stats')\n",
    "importr('eRm')\n",
    "importr('ltm')\n",
    "importr('mirt')\n",
    "file_name = \"data/Data_EmotionalClarity.dat\"\n",
    "dat = pd.read_csv(file_name, sep=\"\\t\")"
   ]
  },
  {
   "cell_type": "code",
   "execution_count": 12,
   "id": "7ac3161e",
   "metadata": {},
   "outputs": [
    {
     "name": "stdout",
     "output_type": "stream",
     "text": [
      "\n",
      "Loadings (cutoff = 0.1):\n",
      "       Comp1  Comp2 \n",
      "item_1 -0.996       \n",
      "item_2 -0.995       \n",
      "item_3 -0.996       \n",
      "item_4 -0.997       \n",
      "item_6 -0.995       \n",
      "item_5 -0.511 -0.860\n",
      "\n",
      "Importance (Variance Accounted For):\n",
      "                 Comp1    Comp2\n",
      "Eigenvalues     5.2206   0.7793\n",
      "VAF            87.0101  12.9884\n",
      "Cumulative VAF 87.0100 100.0000\n",
      "\n",
      "None\n"
     ]
    }
   ],
   "source": [
    "dat2 = dat.iloc[:, 1:7]\n",
    "ro.globalenv['dat2'] = dat2\n",
    "ro.r(\"prinzar <- princals(dat2)\")\n",
    "print(ro.r(\"summary(prinzar)\"))\n"
   ]
  },
  {
   "cell_type": "code",
   "execution_count": 13,
   "id": "8aada94b",
   "metadata": {},
   "outputs": [
    {
     "name": "stdout",
     "output_type": "stream",
     "text": [
      "\n",
      "Loadings (cutoff = 0.1):\n",
      "       Comp1  Comp2 \n",
      "item_1 -0.996       \n",
      "item_2 -0.995       \n",
      "item_3 -0.996       \n",
      "item_4 -0.997       \n",
      "item_6 -0.995       \n",
      "item_5 -0.511 -0.860\n",
      "\n",
      "Importance (Variance Accounted For):\n",
      "                 Comp1    Comp2\n",
      "Eigenvalues     5.2206   0.7793\n",
      "VAF            87.0101  12.9884\n",
      "Cumulative VAF 87.0100 100.0000\n",
      "\n"
     ]
    },
    {
     "data": {
      "image/png": "[encoded data removed]",
      "text/plain": [
       "<IPython.core.display.Image object>"
      ]
     },
     "metadata": {},
     "output_type": "display_data"
    }
   ],
   "source": [
    "%%R\n",
    "summary(prinzar)\n",
    "plot(prinzar)"
   ]
  },
  {
   "cell_type": "code",
   "execution_count": null,
   "id": "e62104ee",
   "metadata": {},
   "outputs": [],
   "source": [
    "# 1️⃣ Data Exploration and Preparation\n",
    "\n",
    "# Step 1: Explore the data\n",
    "print(\"First few rows of the data:\")\n",
    "print()\n",
    "\n",
    "# Step 2: Create a new variable with only the first 10 items\n",
    "dat_items = \"\"\n",
    "\n",
    "# Step 3: Compute and print the covariance and correlation matrices\n",
    "print(\"\\nCovariance matrix:\")\n",
    "print(dat2_10.cov())\n",
    "\n",
    "print(\"\\nCorrelation matrix:\")\n",
    "print(dat2_10.corr())\n",
    "\n",
    "# Step 4: Plot the correlation matrix\n",
    "plt.figure(figsize=(8, 6))\n",
    "sns.heatmap(dat2_10.corr(), annot=True, cmap=\"coolwarm\", fmt=\".2f\", linewidths=0.5)\n",
    "plt.title(\"Correlation Matrix (First 10 Items)\")\n",
    "plt.show()"
   ]
  },
  {
   "cell_type": "code",
   "execution_count": null,
   "id": "240fbc77",
   "metadata": {},
   "outputs": [],
   "source": [
    "# Remove Items 2 and 3\n",
    "dat3 = dat2.drop(columns=[...])\n",
    "print(dat3.head())\n",
    "# Put data into R\n",
    "ro.globalenv[...] = ...\n",
    "# Specify the model\n",
    "ro.r(\"mtc2 <- ... \")\n",
    "# Fit the model\n",
    "ro.r('fitmtc2 <- ... ')\n",
    "# Print the output of the model for interpretation\n",
    "summary_fitmtc2 = ro.r(...)\n",
    "print(summary_fitmtc2)"
   ]
  }
 ],
 "metadata": {
  "kernelspec": {
   "display_name": "psy126",
   "language": "python",
   "name": "python3"
  },
  "language_info": {
   "codemirror_mode": {
    "name": "ipython",
    "version": 3
   },
   "file_extension": ".py",
   "mimetype": "text/x-python",
   "name": "python",
   "nbconvert_exporter": "python",
   "pygments_lexer": "ipython3",
   "version": "3.13.3"
  }
 },
 "nbformat": 4,
 "nbformat_minor": 5
}
