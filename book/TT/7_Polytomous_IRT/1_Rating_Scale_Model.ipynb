{
 "cells": [
  {
   "cell_type": "markdown",
   "id": "a85611d7",
   "metadata": {},
   "source": [
    "# 5.1 Rating Scale Model (RSM)\n",
    "\n",
    "As in the Rasch model, $θ_v$ denotes the person parameter\n",
    "(the latent trait or ability being measured) and $β_i$ the item location\n",
    "parameter (corresponding to item's difficulty), here again written as easiness\n",
    "parameter in order to be consistent with the\n",
    "specification used in the `eRm` package. Each category h gets a category parameter\n",
    "ωh, constant across items. This means that item differences are solely reflected by\n",
    "the shifts in $β_i$ across items. Belonging to the Rasch family, the RSM shares all the\n",
    "desirable Rasch measurement properties. The downside is that the model is pretty\n",
    "strict since the same assumptions need to be fulfilled as in the Rasch model.\n",
    "\n",
    "## The dataset\n",
    "\n",
    "To illustrate an RSM fit, we use data analyzed in Bond and Fox (2015). The\n",
    "Children’s Empathic Attitudes Questionnaire (CEAQ; Funk et al., 2008) is a 16-\n",
    "item scale to measure empathy of late elementary and middle school-aged children.\n",
    "Each item has three ordered responses: “no” (1), “maybe” (2), and “yes” (3). The\n",
    "sample size is n = 208. Three covariates (age, gender, grade) were collected as\n",
    "well. Let us extract the items and set the lowest category to 0 in order to make it\n",
    "`eRm` compatible ().\n",
    "\n",
    "## Load, prepare and inspect the dataset"
   ]
  },
  {
   "cell_type": "code",
   "execution_count": null,
   "id": "58b65220",
   "metadata": {},
   "outputs": [
    {
     "name": "stdout",
     "output_type": "stream",
     "text": [
      "   ceaq1  ceaq2  ceaq3  ceaq4  ceaq5  ceaq6  ceaq7  ceaq8  ceaq9  ceaq10  \\\n",
      "1    2.0    2.0    2.0    1.0    2.0    0.0    2.0    2.0    1.0     2.0   \n",
      "2    1.0    2.0    2.0    2.0    2.0    1.0    2.0    2.0    0.0     2.0   \n",
      "3    2.0    2.0    2.0    1.0    2.0    1.0    2.0    0.0    2.0     2.0   \n",
      "4    2.0    1.0    2.0    2.0    1.0    2.0    2.0    0.0    0.0     2.0   \n",
      "5    2.0    1.0    2.0    2.0    1.0    0.0    2.0    2.0    0.0     2.0   \n",
      "\n",
      "   ceaq11  ceaq12  ceaq13  ceaq14  ceaq15  ceaq16  \n",
      "1     2.0     2.0     1.0     2.0     2.0     2.0  \n",
      "2     2.0     2.0     0.0     2.0     2.0     2.0  \n",
      "3     1.0     2.0     1.0     2.0     2.0     2.0  \n",
      "4     2.0     2.0     0.0     2.0     1.0     2.0  \n",
      "5     1.0     2.0     1.0     2.0     1.0     2.0  \n"
     ]
    }
   ],
   "source": [
    "# Load the data in R\n",
    "ro.r(\"data(CEAQ)\")\n",
    "\n",
    "# Get as DataFrame\n",
    "CEAQ = pandas2ri.rpy2py(ro.globalenv['CEAQ'])\n",
    "\n",
    "# Subtract 1 from every response to make the dataset eRm compatible\n",
    "itceaq = CEAQ.iloc[:, :16] - 1\n",
    "\n",
    "# Inspect the dataset\n",
    "print(itceaq.head())\n"
   ]
  },
  {
   "cell_type": "markdown",
   "id": "0a03cd8f",
   "metadata": {},
   "source": [
    "### Fit the model"
   ]
  },
  {
   "cell_type": "code",
   "execution_count": null,
   "id": "ad4b870e",
   "metadata": {},
   "outputs": [
    {
     "name": "stdout",
     "output_type": "stream",
     "text": [
      "\n",
      "Itemfit Statistics: \n",
      "         Chisq  df p-value Outfit MSQ Infit MSQ Outfit t Infit t Discrim\n",
      "ceaq1  210.938 205   0.373      1.024     0.918    0.201  -0.704   0.504\n",
      "ceaq2  190.205 205   0.763      0.923     0.897   -0.496  -0.977   0.549\n",
      "ceaq3  259.718 205   0.006      1.261     0.966    1.305  -0.215   0.396\n",
      "ceaq4  222.146 205   0.196      1.078     0.995    0.724  -0.024   0.289\n",
      "ceaq5  167.622 205   0.974      0.814     0.864   -1.576  -1.471   0.511\n",
      "ceaq6  191.085 205   0.749      0.928     0.914   -0.764  -1.055   0.407\n",
      "ceaq7  162.424 205   0.987      0.788     0.886   -1.506  -1.074   0.588\n",
      "ceaq8  146.463 205   0.999      0.711     0.738   -3.409  -3.523   0.622\n",
      "ceaq9  181.586 205   0.879      0.881     0.891   -1.311  -1.373   0.512\n",
      "ceaq10 380.868 205   0.000      1.849     1.650    3.959   4.549  -0.044\n",
      "ceaq11 149.579 205   0.999      0.726     0.753   -3.297  -3.342   0.635\n",
      "ceaq12 192.132 205   0.731      0.933     0.980   -0.424  -0.151   0.589\n",
      "ceaq13 188.073 205   0.796      0.913     0.924   -0.886  -0.909   0.513\n",
      "ceaq14 232.512 205   0.091      1.129     1.206    0.752   1.614   0.422\n",
      "ceaq15 249.571 205   0.018      1.212     1.166    1.883   1.830   0.264\n",
      "ceaq16 184.072 205   0.850      0.894     0.920   -0.930  -0.879   0.482\n",
      "\n",
      "\n"
     ]
    }
   ],
   "source": [
    "# Put data back into R\n",
    "ro.globalenv['itceaq'] = itceaq\n",
    "\n",
    "# Fit the model\n",
    "ro.r(\"fitrsm <- RSM(itceaq)\")\n",
    "\n",
    "# Get person parameters\n",
    "ro.r(\"ppar2 <- person.parameter(fitrsm)\")\n",
    "\n",
    "ifit0 = ro.r(\"itemfit(ppar2)\")\n",
    "print(ifit0)"
   ]
  },
  {
   "cell_type": "markdown",
   "id": "7ba0caf2",
   "metadata": {},
   "source": [
    "We can compare the p-values across items since the degrees of freedom (df) are constant across the tests. Note\n",
    "that these $χ^2$-statistics exhibit inflated Type I error rates\n",
    "(which is problematic because since it could lead to the incorrect\n",
    "identification of misfitting items). Other measures reported\n",
    "here are the mean square fit (*MSQ*) statistics related to the amount of misfit in the\n",
    "original data. They should be within a [0.7, 1.3] interval. Outfit statistics result from\n",
    "dividing the $χ^2$-value by the corresponding df. Due to their sensitivity to outlying scores,\n",
    "a modified statistic called *infit* is typically preferred due to its robustness to outliers. Both *infit* and *outfit* can\n",
    "be standardized t-values which should be between −2 and 2.  \n",
    "In the output above, which items look problematic?\n",
    "\n",
    "### Repetition\n",
    "Item 10 and item 15 have a low p-value and high *outfit/infit*\n",
    "statistics. Let us eliminate item 10 and item 15 and refit the model."
   ]
  },
  {
   "cell_type": "code",
   "execution_count": null,
   "id": "8358df5e",
   "metadata": {},
   "outputs": [
    {
     "name": "stdout",
     "output_type": "stream",
     "text": [
      "\n",
      "Itemfit Statistics: \n",
      "         Chisq  df p-value Outfit MSQ Infit MSQ Outfit t Infit t Discrim\n",
      "ceaq1  225.051 205   0.161      1.092     0.979    0.583  -0.143   0.495\n",
      "ceaq2  207.044 205   0.447      1.005     0.937    0.084  -0.566   0.553\n",
      "ceaq3  266.737 205   0.002      1.295     1.018    1.362   0.183   0.412\n",
      "ceaq4  261.178 205   0.005      1.268     1.111    2.166   1.200   0.273\n",
      "ceaq5  181.898 205   0.876      0.883     0.938   -0.904  -0.617   0.501\n",
      "ceaq6  205.813 205   0.471      0.999     0.971    0.024  -0.320   0.408\n",
      "ceaq7  164.570 205   0.983      0.799     0.922   -1.345  -0.705   0.593\n",
      "ceaq8  148.237 205   0.999      0.720     0.763   -3.126  -3.044   0.623\n",
      "ceaq9  188.180 205   0.794      0.913     0.936   -0.871  -0.763   0.508\n",
      "ceaq11 156.431 205   0.995      0.759     0.792   -2.679  -2.683   0.621\n",
      "ceaq12 193.162 205   0.713      0.938     0.983   -0.363  -0.126   0.611\n",
      "ceaq13 185.197 205   0.836      0.899     0.931   -0.956  -0.806   0.526\n",
      "ceaq14 252.851 205   0.013      1.227     1.275    1.177   2.087   0.422\n",
      "ceaq16 198.036 205   0.624      0.961     0.982   -0.289  -0.160   0.481\n",
      "\n",
      "\n"
     ]
    }
   ],
   "source": [
    "itceaqsub = itceaq.drop(itceaq.columns[[9,14]], axis=1)\n",
    "\n",
    "# Put data back into R\n",
    "ro.globalenv['itceaqsub'] = itceaqsub\n",
    "\n",
    "# Fit the model\n",
    "ro.r(\"fitrsm2 <- RSM(itceaqsub)\")\n",
    "\n",
    "# Get person parameters\n",
    "ppar2 = ro.r(\"ppar2 <- person.parameter(fitrsm2)\")\n",
    "\n",
    "# Get item fit\n",
    "ifit02 = ro.r(\"itemfit(ppar2)\")\n",
    "print(ifit02)"
   ]
  },
  {
   "cell_type": "markdown",
   "id": "11680ecc",
   "metadata": {},
   "source": [
    "Now there is no item left which shows a suspicious combination of significant p-values\n",
    "and extreme infit/outfit values. You might notice that the item 3,4 and 14 have significant p-values.\n",
    "\n",
    "The significant p-values for items 3, 4, and 14 suggest these items might not fit the Rasch model perfectly. This could mean the items are measuring something slightly different from the overall construct being assessed by the questionnaire.\n",
    "The fact that the other fit statistics (infit, outfit, MSQ) are within acceptable ranges (MSQs 0.7 - 1.3; Outfit > 2.5; Infit -2 - 2) and the discrimination parameters are similar suggests that the misfit of items 3, 4, and 14 might not be severe enough to warrant their removal. \\\n",
    "Therefore, we can include the items, despite their significant p-values.\n",
    "\n",
    "## Andersen’s LR-test\n",
    "\n",
    "Let us double-check the model fit using **Andersen’s LR-test**, which has better\n",
    "inferential properties than the itemfit statistics. It's a statistical test\n",
    "that assesses whether the item parameters are consistent across different groups\n",
    "of respondents (in this case, we use grade as splitting criterion).\n",
    "\n",
    "Note that we have some missing grade values which we impute using the mice\n",
    "package (van Buuren and Groothuis-Oudshoorn, 2011), since we need to have full\n",
    "responses on the split criterion. This step would not be necessary if your\n",
    "dataset does not present missing values."
   ]
  },
  {
   "cell_type": "code",
   "execution_count": null,
   "id": "51d26522",
   "metadata": {},
   "outputs": [
    {
     "name": "stdout",
     "output_type": "stream",
     "text": [
      "\n",
      " iter imp variable\n",
      "  1   1  age  grade  gender\n",
      "  1   2  age  grade  gender\n",
      "  1   3  age  grade  gender\n",
      "  1   4  age  grade  gender\n",
      "  1   5  age  grade  gender\n",
      "  2   1  age  grade  gender\n",
      "  2   2  age  grade  gender\n",
      "  2   3  age  grade  gender\n",
      "  2   4  age  grade  gender\n",
      "  2   5  age  grade  gender\n",
      "  3   1  age  grade  gender\n",
      "  3   2  age  grade  gender\n",
      "  3   3  age  grade  gender\n",
      "  3   4  age  grade  gender\n",
      "  3   5  age  grade  gender\n",
      "  4   1  age  grade  gender\n",
      "  4   2  age  grade  gender\n",
      "  4   3  age  grade  gender\n",
      "  4   4  age  grade  gender\n",
      "  4   5  age  grade  gender\n",
      "  5   1  age  grade  gender\n",
      "  5   2  age  grade  gender\n",
      "  5   3  age  grade  gender\n",
      "  5   4  age  grade  gender\n",
      "  5   5  age  grade  gender\n"
     ]
    }
   ],
   "source": [
    "ro.r(\"imp <- mice(CEAQ)\")"
   ]
  },
  {
   "cell_type": "code",
   "execution_count": null,
   "id": "bff0b3c2",
   "metadata": {},
   "outputs": [],
   "source": [
    "ro.r(\"gradevec <- complete(imp)$grade\")"
   ]
  },
  {
   "cell_type": "markdown",
   "id": "97dbb34d",
   "metadata": {},
   "source": [
    "With this code we binarize the grade variable and compute the LR-test. The following code chunk is creating two groups (grades 5-6 and grades 7-8) to compare item parameters between these groups."
   ]
  },
  {
   "cell_type": "code",
   "execution_count": null,
   "id": "6590e157",
   "metadata": {},
   "outputs": [
    {
     "name": "stdout",
     "output_type": "stream",
     "text": [
      "\n",
      "Andersen LR-test: \n",
      "LR-value: 23.931 \n",
      "Chi-square df: 14 \n",
      "p-value:  0.047 \n",
      "\n",
      "\n"
     ]
    }
   ],
   "source": [
    "ro.r('levels(gradevec) <- c(\"grade56\", \"grade56\", \"grade78\", \"grade78\")')\n",
    "\n",
    "LRtest1 = ro.r(\"LRtest(fitrsm2, gradevec)\")\n",
    "print(LRtest1)"
   ]
  },
  {
   "cell_type": "markdown",
   "id": "157548ee",
   "metadata": {},
   "source": [
    "Even though the p-value is only slightly above 0.05, in conjunction with the itemfit\n",
    "outcomes, it is safe to assume that the data fit the RSM."
   ]
  },
  {
   "cell_type": "markdown",
   "id": "38f752d3",
   "metadata": {},
   "source": [
    "## Wald Test\n",
    "\n",
    "Note that another option for testing at an item-category level is to use the\n",
    "Wald test function which computes a p-value for each item-category parameter.\n",
    "There is no clear rule for situations where, for instance, two item-category parameters\n",
    "are significant and two are not significant. Whether such an item should be\n",
    "eliminated or not depends on how strict we want to be when constructing the scale.\n",
    "\n",
    "As a general *rule of thumb*, significant p-values indicate that the item-category\n",
    "parameters for some items differ significantly from the average,\n",
    "suggesting that the RSM's assumption of equal category parameters might not hold perfectly."
   ]
  },
  {
   "cell_type": "code",
   "execution_count": null,
   "id": "91a473f0",
   "metadata": {},
   "outputs": [
    {
     "name": "stdout",
     "output_type": "stream",
     "text": [
      "\n",
      "Wald test on item level (z-values):\n",
      "\n",
      "               z-statistic p-value\n",
      "beta ceaq1.c1        0.368   0.713\n",
      "beta ceaq1.c2       -0.037   0.971\n",
      "beta ceaq2.c1        0.343   0.732\n",
      "beta ceaq2.c2       -0.084   0.933\n",
      "beta ceaq3.c1       -0.446   0.656\n",
      "beta ceaq3.c2       -0.808   0.419\n",
      "beta ceaq4.c1       -1.804   0.071\n",
      "beta ceaq4.c2       -2.085   0.037\n",
      "beta ceaq5.c1        0.120   0.905\n",
      "beta ceaq5.c2       -0.325   0.745\n",
      "beta ceaq6.c1       -2.362   0.018\n",
      "beta ceaq6.c2       -2.348   0.019\n",
      "beta ceaq7.c1       -0.465   0.642\n",
      "beta ceaq7.c2       -0.863   0.388\n",
      "beta ceaq8.c1       -1.453   0.146\n",
      "beta ceaq8.c2       -1.683   0.092\n",
      "beta ceaq9.c1       -0.909   0.364\n",
      "beta ceaq9.c2       -1.166   0.244\n",
      "beta ceaq11.c1       1.421   0.155\n",
      "beta ceaq11.c2       0.765   0.444\n",
      "beta ceaq12.c1       2.953   0.003\n",
      "beta ceaq12.c2       2.465   0.014\n",
      "beta ceaq13.c1       0.400   0.689\n",
      "beta ceaq13.c2      -0.067   0.947\n",
      "beta ceaq14.c1       1.315   0.188\n",
      "beta ceaq14.c2       0.932   0.351\n",
      "beta ceaq16.c1      -0.459   0.646\n",
      "beta ceaq16.c2      -0.864   0.388\n",
      "\n",
      "\n"
     ]
    }
   ],
   "source": [
    "fitWald = ro.r(\"Waldtest(fitrsm2, gradevec)\")\n",
    "print(fitWald)"
   ]
  },
  {
   "cell_type": "markdown",
   "id": "1fc38a0d",
   "metadata": {},
   "source": [
    "You see that there some items with significant p-values, meaning that the category parameters are not the same for all items (as it is assumed by the RSM).\n",
    "Still, the overall fit of the model and the other item fit statistics indicate that the RSM is still a reasonable model for the data\n",
    "\n",
    "## Inspect and interpret item paramters"
   ]
  },
  {
   "cell_type": "code",
   "execution_count": null,
   "id": "4dd33d11",
   "metadata": {},
   "outputs": [
    {
     "name": "stdout",
     "output_type": "stream",
     "text": [
      "\n",
      "Results of RSM estimation: \n",
      "\n",
      "Call:  RSM(X = itceaqsub) \n",
      "\n",
      "Conditional log-likelihood: -1769.877 \n",
      "Number of iterations: 19 \n",
      "Number of parameters: 14 \n",
      "\n",
      "Item (Category) Difficulty Parameters (eta):\n",
      "              ceaq2      ceaq3       ceaq4      ceaq5    ceaq6      ceaq7\n",
      "Estimate -0.6525542 -1.3134847 0.006084797 -0.2649996 1.308416 -0.6879837\n",
      "Std.Err   0.1283175  0.1529035 0.113368383  0.1184045 0.111101  0.1293845\n",
      "             ceaq8     ceaq9    ceaq11     ceaq12    ceaq13     ceaq14\n",
      "Estimate 0.6502727 1.1905610 0.9799874 -0.6701963 1.5363996 -1.1251567\n",
      "Std.Err  0.1077147 0.1098345 0.1082772  0.1288454 0.1143261  0.1448551\n",
      "              ceaq16     Cat 2\n",
      "Estimate -0.06293832 1.4637785\n",
      "Std.Err   0.11450242 0.1065537\n",
      "\n",
      "\n",
      "\n"
     ]
    }
   ],
   "source": [
    "fitrsm2 = ro.globalenv[\"fitrsm2\"]\n",
    "print(fitrsm2)"
   ]
  },
  {
   "cell_type": "markdown",
   "id": "ebe4dbb1",
   "metadata": {},
   "source": [
    "In this example, let us proceed with the fitrsm2 model. The item parameters\n",
    "shown in the print or summary output are difficult to interpret. Let us convert\n",
    "them into **threshold** parameters. \\\n",
    "The **threshold** parameters are more intuitive because they represent the points on the latent trait scale where the probability of responding in a higher category exceeds the probability of responding in a lower category."
   ]
  },
  {
   "cell_type": "code",
   "execution_count": null,
   "id": "a2adcbff",
   "metadata": {},
   "outputs": [
    {
     "name": "stdout",
     "output_type": "stream",
     "text": [
      "\n",
      "Design Matrix Block 1:\n",
      "       Location Threshold 1 Threshold 2\n",
      "ceaq1  -0.16252    -0.89441     0.56937\n",
      "ceaq2   0.07934    -0.65255     0.81122\n",
      "ceaq3  -0.58160    -1.31348     0.15029\n",
      "ceaq4   0.73797     0.00608     1.46986\n",
      "ceaq5   0.46689    -0.26500     1.19878\n",
      "ceaq6   2.04031     1.30842     2.77219\n",
      "ceaq7   0.04391    -0.68798     0.77579\n",
      "ceaq8   1.38216     0.65027     2.11405\n",
      "ceaq9   1.92245     1.19056     2.65434\n",
      "ceaq11  1.71188     0.97999     2.44377\n",
      "ceaq12  0.06169    -0.67020     0.79358\n",
      "ceaq13  2.26829     1.53640     3.00018\n",
      "ceaq14 -0.39327    -1.12516     0.33862\n",
      "ceaq16  0.66895    -0.06294     1.40084\n",
      "\n",
      "\n"
     ]
    }
   ],
   "source": [
    "thpar = ro.r(\"thresholds(fitrsm2)\")\n",
    "print(thpar)"
   ]
  },
  {
   "cell_type": "markdown",
   "id": "94a769f8",
   "metadata": {},
   "source": [
    "We get a location parameter for each item and k − 1 threshold parameters (with k being the number of categories in each item).\n",
    "The threshold parameters reflect the point on the empathy trait\n",
    "continuum where a respondent would switch from scoring 0 to scoring 1 (first\n",
    "parameter) and would switch from scoring 1 to scoring 2 (second parameter).\n",
    "\n",
    "While location parameter represents the overall difficulty of the item, the threshold\n",
    "parameters represent the relative difficulty of moving from one category to the next.\n",
    "\n",
    "Using the plotICC function such curves can be produced for each item. Note\n",
    "that for polytomous models, we get a curve for each item category (item-category\n",
    "characteristic curves). These curves show the probability of responding in each\n",
    "category as a function of the latent trait. Lets plot the ICC for the first item."
   ]
  },
  {
   "cell_type": "code",
   "execution_count": null,
   "id": "d7e83aad",
   "metadata": {},
   "outputs": [
    {
     "data": {
      "image/png": "[encoded data removed]",
      "text/plain": [
       "<IPython.core.display.Image object>"
      ]
     },
     "metadata": {},
     "output_type": "display_data"
    }
   ],
   "source": [
    "%%R\n",
    "plotICC(fitrsm2, item.subset = 1)"
   ]
  },
  {
   "cell_type": "markdown",
   "id": "f3b71cc3",
   "metadata": {},
   "source": [
    "Another plotting option, which summarizes nicely the entire set of parameter\n",
    "estimates, is the person-item map."
   ]
  },
  {
   "cell_type": "code",
   "execution_count": null,
   "id": "3125f73d",
   "metadata": {},
   "outputs": [
    {
     "data": {
      "image/png": "[encoded data removed]",
      "text/plain": [
       "<IPython.core.display.Image object>"
      ]
     },
     "metadata": {},
     "output_type": "display_data"
    }
   ],
   "source": [
    "%%R\n",
    "plotPImap(fitrsm2, latdim = \"Empathy\", main = \"Person-Item Map CEAQ\")"
   ]
  },
  {
   "cell_type": "markdown",
   "id": "fef83090",
   "metadata": {},
   "source": [
    "As this plot nicely illustrates, item differences occur due to location shifts only.\n",
    "That is, we fit one set of threshold parameters for all items, which is then shifted\n",
    "across the items via the location parameter. This means that RSM assumes  the relative distances between the response categories to be the same for all items, which is a strong assumption that might not always hold in practice.\n",
    "This is a main feature of the RSM and will be relaxed in the next section.\n",
    "\n",
    "### Test your understanding\n",
    "\n",
    "- Based on the thpar output, which item appears to be the easiest? Which appears to be the most difficult? Discuss with your collegues.\n",
    "- Looking at the person-item map, are there any respondents who seem to have very high or very low levels of empathy? How can you tell?"
   ]
  }
 ],
 "metadata": {
  "language_info": {
   "name": "python"
  }
 },
 "nbformat": 4,
 "nbformat_minor": 5
}
